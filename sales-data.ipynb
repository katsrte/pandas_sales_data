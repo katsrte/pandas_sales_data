{
 "cells": [
  {
   "cell_type": "code",
   "execution_count": null,
   "id": "cee03810-ee4e-4681-808b-9b091b648b85",
   "metadata": {},
   "outputs": [],
   "source": [
    "import pandas as pd\n",
    "import numpy as np"
   ]
  },
  {
   "cell_type": "code",
   "execution_count": null,
   "id": "82299660-7aea-4051-b506-f7ac18533e50",
   "metadata": {},
   "outputs": [],
   "source": [
    "inv = pd.load_csv(\"\")"
   ]
  },
  {
   "cell_type": "markdown",
   "id": "509a7e57-463a-454d-8ae8-29eb1aad9747",
   "metadata": {},
   "source": [
    "<h1>Easy</h1>"
   ]
  },
  {
   "cell_type": "markdown",
   "id": "a58ffc58-fc00-4964-9e4e-981a935f89b8",
   "metadata": {},
   "source": [
    "<h3>How many unique customers are in the dataset?</h3>"
   ]
  },
  {
   "cell_type": "code",
   "execution_count": null,
   "id": "682df593-badf-4ffb-832a-882c90a378a2",
   "metadata": {},
   "outputs": [],
   "source": []
  },
  {
   "cell_type": "markdown",
   "id": "64090d12-7f03-4dad-bc61-1e4ad5008fda",
   "metadata": {},
   "source": [
    "<h1>Medium</h1>"
   ]
  },
  {
   "cell_type": "markdown",
   "id": "c8f23262-fcd5-4449-866f-829acb4e1071",
   "metadata": {},
   "source": [
    "<h1>Hard</h1>"
   ]
  },
  {
   "cell_type": "code",
   "execution_count": null,
   "id": "0cac59a1-da74-463d-980e-bfab4c4ef01a",
   "metadata": {},
   "outputs": [],
   "source": []
  }
 ],
 "metadata": {
  "kernelspec": {
   "display_name": "Python 3 (ipykernel)",
   "language": "python",
   "name": "python3"
  },
  "language_info": {
   "codemirror_mode": {
    "name": "ipython",
    "version": 3
   },
   "file_extension": ".py",
   "mimetype": "text/x-python",
   "name": "python",
   "nbconvert_exporter": "python",
   "pygments_lexer": "ipython3",
   "version": "3.12.4"
  }
 },
 "nbformat": 4,
 "nbformat_minor": 5
}
